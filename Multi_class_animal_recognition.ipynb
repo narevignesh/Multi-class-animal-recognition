{
  "nbformat": 4,
  "nbformat_minor": 0,
  "metadata": {
    "colab": {
      "provenance": [],
      "gpuType": "T4",
      "authorship_tag": "ABX9TyO9ebPMlmMXQwz1HW2Uk9jb",
      "include_colab_link": true
    },
    "kernelspec": {
      "name": "python3",
      "display_name": "Python 3"
    },
    "language_info": {
      "name": "python"
    },
    "accelerator": "GPU"
  },
  "cells": [
    {
      "cell_type": "markdown",
      "metadata": {
        "id": "view-in-github",
        "colab_type": "text"
      },
      "source": [
        "<a href=\"https://colab.research.google.com/github/narevignesh/Multi-class-animal-recognition/blob/main/Multi_class_animal_recognition.ipynb\" target=\"_parent\"><img src=\"https://colab.research.google.com/assets/colab-badge.svg\" alt=\"Open In Colab\"/></a>"
      ]
    },
    {
      "source": [
        "# %%\n",
        "# Purpose: Install necessary libraries for the project.\n",
        "# Result: Installs the specified libraries and their dependencies.\n",
        "!pip install kaggle\n",
        "!pip install ipython\n",
        "!pip install matplotlib\n",
        "!pip install numpy\n",
        "!pip install tensorflow\n",
        "!pip install scikit-learn\n",
        "!pip install Pillow"
      ],
      "cell_type": "code",
      "metadata": {
        "id": "aAbf2g4poN11"
      },
      "execution_count": null,
      "outputs": []
    },
    {
      "source": [
        "# %%\n",
        "# Purpose: Import necessary libraries for interacting with the notebook and displaying content.\n",
        "# Result: Makes the functionalities of IPython and display available for use in the notebook.\n",
        "from IPython import get_ipython\n",
        "from IPython.display import display"
      ],
      "cell_type": "code",
      "metadata": {
        "id": "Du8E13XKoOTU"
      },
      "execution_count": null,
      "outputs": []
    },
    {
      "source": [
        "# %%\n",
        "# Purpose: Download the animal image dataset from Kaggle.\n",
        "# Result: Downloads the dataset and prints the path to the downloaded files.\n",
        "import kagglehub\n",
        "\n",
        "path = kagglehub.dataset_download(\"iamsouravbanerjee/animal-image-dataset-90-different-animals\")\n",
        "\n",
        "print(\"Path to dataset files:\", path)"
      ],
      "cell_type": "code",
      "metadata": {
        "id": "JViDCFmcoPIT"
      },
      "execution_count": null,
      "outputs": []
    },
    {
      "source": [
        "# %%\n",
        "# Purpose: Import necessary libraries for data processing, visualization, and model building.\n",
        "# Result: Makes the functionalities of the imported libraries available for use in the notebook.\n",
        "import os\n",
        "import numpy as np\n",
        "import matplotlib.pyplot as plt\n",
        "from PIL import Image\n",
        "import tensorflow as tf\n",
        "from tensorflow.keras.preprocessing.image import ImageDataGenerator\n",
        "from tensorflow.keras.models import Sequential\n",
        "from tensorflow.keras.layers import Conv2D, MaxPooling2D,GlobalAveragePooling2D, Flatten, Dense, Dropout\n",
        "from tensorflow.keras.applications import MobileNetV2\n",
        "from tensorflow.keras.models import Model\n",
        "from tensorflow.keras.callbacks import EarlyStopping, ModelCheckpoint\n",
        "from tensorflow.keras.optimizers import Adam\n",
        "from sklearn.metrics import classification_report, confusion_matrix"
      ],
      "cell_type": "code",
      "metadata": {
        "id": "2Y5plnKfoPxr"
      },
      "execution_count": null,
      "outputs": []
    },
    {
      "source": [
        "# %%\n",
        "# Purpose: Check and print the number of available GPUs.\n",
        "# Result: Prints the number of available GPUs and the name of the GPU if available.\n",
        "print(\"Num GPUs Available: \", len(tf.config.list_physical_devices('GPU')))\n",
        "\n",
        "if tf.config.list_physical_devices('GPU'):\n",
        "    print(\"GPU Name:\", tf.config.list_physical_devices('GPU')[0].name)"
      ],
      "cell_type": "code",
      "metadata": {
        "id": "B1lFE6e0oQy8"
      },
      "execution_count": null,
      "outputs": []
    },
    {
      "source": [
        "# %%\n",
        "# Purpose: Define the dataset path and retrieve class information.\n",
        "# Result: Sets the dataset path and prints the class names and the number of classes.\n",
        "dataset_path = \"/kaggle/input/animal-image-dataset-90-different-animals/animals/animals\"\n",
        "classes = os.listdir(dataset_path)\n",
        "num_classes = len(classes)\n",
        "print(\"Classes:\", classes)\n",
        "print(\"Number of classes:\", num_classes)"
      ],
      "cell_type": "code",
      "metadata": {
        "id": "1yR60Mw9oRLy"
      },
      "execution_count": null,
      "outputs": []
    },
    {
      "source": [
        "# %%\n",
        "# Purpose: Display sample images from the dataset.\n",
        "# Result: Generates a plot containing sample images from the first 10 classes, with their corresponding class names as titles.\n",
        "plt.figure(figsize=(15, 10))\n",
        "for i, class_name in enumerate(classes[:10]):\n",
        "    class_path = os.path.join(dataset_path, class_name)\n",
        "    image_files = os.listdir(class_path)[0]\n",
        "    image_path = os.path.join(class_path, image_files)\n",
        "    image = Image.open(image_path)\n",
        "\n",
        "    plt.subplot(4, 5, i + 1)\n",
        "    plt.imshow(image)\n",
        "    plt.title(class_name)\n",
        "    plt.axis('off')\n",
        "\n",
        "\n",
        "plt.show()"
      ],
      "cell_type": "code",
      "metadata": {
        "id": "-TbBQD4ooR44"
      },
      "execution_count": null,
      "outputs": []
    },
    {
      "source": [
        "# %%\n",
        "# Purpose: Preprocess the data using ImageDataGenerator.\n",
        "# Result: Creates training and validation data generators for loading and augmenting images.\n",
        "# Define image size and batch_size - Trained model - MobileNetV2 - 224 x 224\n",
        "img_size = (224, 224)\n",
        "batch_size = 64 # There can be 64 images in a batch\n",
        "\n",
        "# Data Augmentation and preprocessing\n",
        "datagen = ImageDataGenerator(\n",
        "    rescale=1./255,\n",
        "    validation_split=0.1\n",
        ")\n",
        "\n",
        "# Create training and validation generators\n",
        "train_generator = datagen.flow_from_directory(\n",
        "    dataset_path,\n",
        "    target_size=img_size,\n",
        "    batch_size=batch_size,\n",
        "    class_mode='categorical',\n",
        "    subset='training'\n",
        ")\n",
        "\n",
        "validation_generator = datagen.flow_from_directory(\n",
        "    dataset_path,\n",
        "    target_size=img_size,\n",
        "    batch_size=batch_size,\n",
        "    class_mode='categorical',\n",
        "    subset='validation'\n",
        ")"
      ],
      "cell_type": "code",
      "metadata": {
        "id": "0czukEjIoStl"
      },
      "execution_count": null,
      "outputs": []
    },
    {
      "source": [
        "# %%\n",
        "# Purpose: Get class indices and names.\n",
        "# Result: Prints the class indices and class names.\n",
        "class_indices = train_generator.class_indices\n",
        "print(class_indices)\n",
        "\n",
        "class_names = list(class_indices.keys())\n",
        "print(\"Class Names:\", class_names)"
      ],
      "cell_type": "code",
      "metadata": {
        "id": "Z1Vm2E7YoTlY"
      },
      "execution_count": null,
      "outputs": []
    },
    {
      "source": [
        "# %%\n",
        "# Purpose: Build and compile the model.\n",
        "# Result: Creates and compiles the model for training.\n",
        "base_model = MobileNetV2(\n",
        "    weights='imagenet',\n",
        "    include_top=False,\n",
        "    input_shape=(224, 224, 3)\n",
        ")\n",
        "base_model.trainable = False\n",
        "\n",
        "model = Sequential([\n",
        "    base_model,\n",
        "    GlobalAveragePooling2D(),\n",
        "    Dense(1024, activation='relu'),\n",
        "    Dropout(0.5),\n",
        "    Dense(num_classes, activation='softmax')\n",
        "])\n",
        "\n",
        "model.compile(optimizer=Adam(learning_rate=0.0001),\n",
        "              loss='categorical_crossentropy',\n",
        "              metrics=['accuracy'])\n",
        "\n",
        "model.summary()"
      ],
      "cell_type": "code",
      "metadata": {
        "id": "zHOE9pqpoUY7"
      },
      "execution_count": null,
      "outputs": []
    },
    {
      "source": [
        "# %%\n",
        "# Purpose: Train the model.\n",
        "# Result: Trains the model and stores the training history.\n",
        "history = model.fit(\n",
        "    train_generator,\n",
        "    steps_per_epoch=train_generator.samples // batch_size,\n",
        "    validation_data=validation_generator,\n",
        "    validation_steps=validation_generator.samples // batch_size,\n",
        "    epochs = 20\n",
        ")"
      ],
      "cell_type": "code",
      "metadata": {
        "id": "meokaPxjoVGd"
      },
      "execution_count": null,
      "outputs": []
    },
    {
      "source": [
        "# %%\n",
        "# Purpose: Plot training and validation accuracy/loss.\n",
        "# Result: Generates plots showing the training and validation accuracy and loss over epochs.\n",
        "plt.figure(figsize=(12, 6))\n",
        "\n",
        "plt.subplot(1, 2, 1)\n",
        "plt.plot(history.history['accuracy'], label='Training Accuracy')\n",
        "plt.plot(history.history['val_accuracy'], label='Validation Accuracy')\n",
        "plt.title('Training and Validation Accuracy')\n",
        "plt.xlabel('Epochs')\n",
        "plt.ylabel('Accuracy')\n",
        "plt.legend()\n",
        "\n",
        "plt.subplot(1, 2, 2)\n",
        "plt.plot(history.history['loss'], label='Training Loss')\n",
        "plt.plot(history.history['val_loss'], label='Validation Loss')\n",
        "plt.title('Training and Validation Loss')\n",
        "plt.xlabel('Epochs')\n",
        "plt.ylabel('Loss')\n",
        "plt.legend()\n",
        "\n",
        "plt.show()"
      ],
      "cell_type": "code",
      "metadata": {
        "id": "ZdqYIQekoVze"
      },
      "execution_count": null,
      "outputs": []
    },
    {
      "source": [
        "# %%\n",
        "# Purpose: Evaluate the model on the validation set.\n",
        "# Result: Prints the validation loss and accuracy.\n",
        "val_loss, val_accuracy = model.evaluate(validation_generator)\n",
        "print(f'Validation Loss: {val_loss}')\n",
        "print(f'Validation Accuracy: {val_accuracy}')"
      ],
      "cell_type": "code",
      "metadata": {
        "id": "MR6ImQ_moWf0"
      },
      "execution_count": null,
      "outputs": []
    },
    {
      "source": [
        "# %%\n",
        "# Purpose: Save the trained model.\n",
        "# Result: Saves the model to a file named 'MCAR.keras'.\n",
        "model.save('MCAR.keras')"
      ],
      "cell_type": "code",
      "metadata": {
        "id": "-Mp0-ALeoXB5"
      },
      "execution_count": null,
      "outputs": []
    },
    {
      "source": [
        "# %%\n",
        "# Purpose: Load the saved model and define a prediction function.\n",
        "# Result: Loads the model and defines a function to predict the animal in an image.\n",
        "model = load_model('MCAR.keras')\n",
        "\n",
        "def predict_animal(img_path):\n",
        "    img = image.load_img(img_path, target_size=(224, 224))\n",
        "    img_array = image.img_to_array(img)\n",
        "    img_array = np.expand_dims(img_array, axis=0)\n",
        "    img_array /= 255.0\n",
        "\n",
        "    prediction = model.predict(img_array)\n",
        "    predicted_class = class_names[np.argmax(prediction)]\n",
        "\n",
        "    plt.imshow(img)\n",
        "    plt.title(f\"Predicted: {predicted_class}\")\n",
        "    plt.axis('off')\n",
        "    plt.show()"
      ],
      "cell_type": "code",
      "metadata": {
        "id": "fPOWkfJSoXmO"
      },
      "execution_count": null,
      "outputs": []
    },
    {
      "source": [
        "# %%\n",
        "# Purpose: List files in a specific directory.\n",
        "# Result: Prints the list of files in the specified directory.\n",
        "os.listdir('/kaggle/input/animal-image-dataset-90-different-animals/animals/animals/snake')"
      ],
      "cell_type": "code",
      "metadata": {
        "id": "UjELF47SoYUi"
      },
      "execution_count": null,
      "outputs": []
    },
    {
      "source": [
        "# %%\n",
        "# Purpose: Predict the animal in an image using the predict_animal function.\n",
        "# Result: Predicts the animal in the specified image and displays the image with the prediction.\n",
        "#predict_animal('/kaggle/input/animal-image-dataset-90-different-animals/animals/animals/parrot/0100ec7408.jpg')"
      ],
      "cell_type": "code",
      "metadata": {
        "id": "AoeahPT-oY7P"
      },
      "execution_count": null,
      "outputs": []
    }
  ]
}